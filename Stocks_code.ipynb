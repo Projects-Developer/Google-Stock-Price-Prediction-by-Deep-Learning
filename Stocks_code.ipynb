{
  "nbformat": 4,
  "nbformat_minor": 0,
  "metadata": {
    "colab": {
      "name": "Stocks_code.ipynb",
      "provenance": []
    },
    "kernelspec": {
      "name": "python3",
      "display_name": "Python 3"
    },
    "language_info": {
      "name": "python"
    }
  },
  "cells": [
    {
      "cell_type": "code",
      "metadata": {
        "id": "453JDspxl3pA"
      },
      "source": [
        "import numpy as np\n",
        "import matplotlib.pyplot as plt\n",
        "import pandas as pd\n"
      ],
      "execution_count": 1,
      "outputs": []
    },
    {
      "cell_type": "markdown",
      "metadata": {
        "id": "9QSy7UtlnREU"
      },
      "source": [
        "**Data Preprocessing**\n",
        "\n",
        "\n"
      ]
    },
    {
      "cell_type": "code",
      "metadata": {
        "colab": {
          "base_uri": "https://localhost:8080/"
        },
        "id": "zGunPw9amYyB",
        "outputId": "9c027b71-30de-404a-c5a7-d9af8955d92c"
      },
      "source": [
        "#loading the Data\n",
        "dataset_train = pd.read_csv('Google_Stock_Price_Train.csv')\n",
        "print('shape is = {}'.format(dataset_train.shape))\n",
        "print(dataset_train.head())"
      ],
      "execution_count": 2,
      "outputs": [
        {
          "output_type": "stream",
          "text": [
            "shape is = (1258, 6)\n",
            "       Date    Open    High     Low   Close      Volume\n",
            "0  1/3/2012  325.25  332.83  324.97  663.59   7,380,500\n",
            "1  1/4/2012  331.27  333.87  329.08  666.45   5,749,400\n",
            "2  1/5/2012  329.83  330.75  326.89  657.21   6,590,300\n",
            "3  1/6/2012  328.34  328.77  323.68  648.24   5,405,900\n",
            "4  1/9/2012  322.04  322.29  309.46  620.76  11,688,800\n"
          ],
          "name": "stdout"
        }
      ]
    },
    {
      "cell_type": "code",
      "metadata": {
        "colab": {
          "base_uri": "https://localhost:8080/"
        },
        "id": "0-a2op74mh0F",
        "outputId": "ed394edf-457c-41b8-f092-62bbb4dc0d4a"
      },
      "source": [
        "training_set = dataset_train.iloc[:,1:2].values\n",
        "print('shape is ={}'.format(training_set.shape))\n",
        "print(training_set[0:5])"
      ],
      "execution_count": 3,
      "outputs": [
        {
          "output_type": "stream",
          "text": [
            "shape is =(1258, 1)\n",
            "[[325.25]\n",
            " [331.27]\n",
            " [329.83]\n",
            " [328.34]\n",
            " [322.04]]\n"
          ],
          "name": "stdout"
        }
      ]
    },
    {
      "cell_type": "code",
      "metadata": {
        "colab": {
          "base_uri": "https://localhost:8080/",
          "height": 279
        },
        "id": "8ZTCeWQtmk5i",
        "outputId": "7103d987-c399-4887-eefa-5b6ab6e684c4"
      },
      "source": [
        "#Visualizing the Data\n",
        "plt.plot(training_set, color = 'red', label = 'Google Stock Price in Test set')\n",
        "plt.xlabel('Time')\n",
        "plt.ylabel('Google Stock Price')\n",
        "plt.legend()\n",
        "plt.show()\n"
      ],
      "execution_count": 4,
      "outputs": [
        {
          "output_type": "display_data",
          "data": {
            "image/png": "[encoded data removed]",
            "text/plain": [
              "<Figure size 432x288 with 1 Axes>"
            ]
          },
          "metadata": {
            "tags": [],
            "needs_background": "light"
          }
        }
      ]
    },
    {
      "cell_type": "code",
      "metadata": {
        "id": "od5mUHZDmpK6"
      },
      "source": [
        ""
      ],
      "execution_count": null,
      "outputs": []
    },
    {
      "cell_type": "markdown",
      "metadata": {
        "id": "zpiznVbOmqpD"
      },
      "source": [
        "Hi WAIT WAIT !\n",
        "Project code is more longer with detailed description.\n",
        "\n",
        "If you want Project Code, synopsis and Report then Please mail me at vatshayan007@gmail.com "
      ]
    },
    {
      "cell_type": "markdown",
      "metadata": {
        "id": "MbMBYPzZm9yv"
      },
      "source": [
        "## Mail me at vatshayan007@gmail.com for the Project files now."
      ]
    },
    {
      "cell_type": "code",
      "metadata": {
        "id": "412G7yB8m8te"
      },
      "source": [
        ""
      ],
      "execution_count": null,
      "outputs": []
    },
    {
      "cell_type": "code",
      "metadata": {
        "id": "3QhRc5blmpE8"
      },
      "source": [
        ""
      ],
      "execution_count": null,
      "outputs": []
    },
    {
      "cell_type": "code",
      "metadata": {
        "id": "8mXF5Dwzmo7C"
      },
      "source": [
        ""
      ],
      "execution_count": null,
      "outputs": []
    },
    {
      "cell_type": "markdown",
      "metadata": {
        "id": "zjO3yx9BmojC"
      },
      "source": [
        ""
      ]
    }
  ]
}